{
 "cells": [
  {
   "cell_type": "code",
   "execution_count": 1,
   "metadata": {},
   "outputs": [],
   "source": [
    "import pandas as pd"
   ]
  },
  {
   "cell_type": "markdown",
   "metadata": {},
   "source": [
    "# Dataset"
   ]
  },
  {
   "cell_type": "markdown",
   "metadata": {},
   "source": [
    "### Sentences"
   ]
  },
  {
   "cell_type": "code",
   "execution_count": 2,
   "metadata": {},
   "outputs": [],
   "source": [
    "data = pd.read_csv(\"data\").set_index(\"Session_ID\")"
   ]
  },
  {
   "cell_type": "code",
   "execution_count": 3,
   "metadata": {},
   "outputs": [
    {
     "data": {
      "text/html": [
       "<div>\n",
       "<style scoped>\n",
       "    .dataframe tbody tr th:only-of-type {\n",
       "        vertical-align: middle;\n",
       "    }\n",
       "\n",
       "    .dataframe tbody tr th {\n",
       "        vertical-align: top;\n",
       "    }\n",
       "\n",
       "    .dataframe thead th {\n",
       "        text-align: right;\n",
       "    }\n",
       "</style>\n",
       "<table border=\"1\" class=\"dataframe\">\n",
       "  <thead>\n",
       "    <tr style=\"text-align: right;\">\n",
       "      <th></th>\n",
       "      <th>Time_Record</th>\n",
       "      <th>Transcription</th>\n",
       "      <th>Emotion</th>\n",
       "      <th>Sentiment</th>\n",
       "    </tr>\n",
       "    <tr>\n",
       "      <th>Session_ID</th>\n",
       "      <th></th>\n",
       "      <th></th>\n",
       "      <th></th>\n",
       "      <th></th>\n",
       "    </tr>\n",
       "  </thead>\n",
       "  <tbody>\n",
       "    <tr>\n",
       "      <th>Sess4_E7_ID1</th>\n",
       "      <td>[00:20:57,256-00:21:00,049]:</td>\n",
       "      <td>Oh my God, he's lost it. He's totally lost it.</td>\n",
       "      <td>sadness</td>\n",
       "      <td>negative</td>\n",
       "    </tr>\n",
       "    <tr>\n",
       "      <th>Sess4_E7_ID2</th>\n",
       "      <td>[00:21:01,927-00:21:03,261]:</td>\n",
       "      <td>What?</td>\n",
       "      <td>surprise</td>\n",
       "      <td>negative</td>\n",
       "    </tr>\n",
       "    <tr>\n",
       "      <th>Sess4_E4_ID3</th>\n",
       "      <td>[00:12:24,660-00:12:30,915]:</td>\n",
       "      <td>Or! Or, we could go to the bank, close our acc...</td>\n",
       "      <td>neutral</td>\n",
       "      <td>neutral</td>\n",
       "    </tr>\n",
       "    <tr>\n",
       "      <th>Sess4_E4_ID4</th>\n",
       "      <td>[00:12:32,334-00:12:33,960]:</td>\n",
       "      <td>You're a genius!</td>\n",
       "      <td>joy</td>\n",
       "      <td>positive</td>\n",
       "    </tr>\n",
       "    <tr>\n",
       "      <th>Sess4_E4_ID5</th>\n",
       "      <td>[00:12:34,211-00:12:37,505]:</td>\n",
       "      <td>Aww, man, now we won't be bank buddies!</td>\n",
       "      <td>sadness</td>\n",
       "      <td>negative</td>\n",
       "    </tr>\n",
       "  </tbody>\n",
       "</table>\n",
       "</div>"
      ],
      "text/plain": [
       "                               Time_Record  \\\n",
       "Session_ID                                   \n",
       "Sess4_E7_ID1  [00:20:57,256-00:21:00,049]:   \n",
       "Sess4_E7_ID2  [00:21:01,927-00:21:03,261]:   \n",
       "Sess4_E4_ID3  [00:12:24,660-00:12:30,915]:   \n",
       "Sess4_E4_ID4  [00:12:32,334-00:12:33,960]:   \n",
       "Sess4_E4_ID5  [00:12:34,211-00:12:37,505]:   \n",
       "\n",
       "                                                  Transcription   Emotion  \\\n",
       "Session_ID                                                                  \n",
       "Sess4_E7_ID1     Oh my God, he's lost it. He's totally lost it.   sadness   \n",
       "Sess4_E7_ID2                                              What?  surprise   \n",
       "Sess4_E4_ID3  Or! Or, we could go to the bank, close our acc...   neutral   \n",
       "Sess4_E4_ID4                                   You're a genius!       joy   \n",
       "Sess4_E4_ID5            Aww, man, now we won't be bank buddies!   sadness   \n",
       "\n",
       "             Sentiment  \n",
       "Session_ID              \n",
       "Sess4_E7_ID1  negative  \n",
       "Sess4_E7_ID2  negative  \n",
       "Sess4_E4_ID3   neutral  \n",
       "Sess4_E4_ID4  positive  \n",
       "Sess4_E4_ID5  negative  "
      ]
     },
     "execution_count": 3,
     "metadata": {},
     "output_type": "execute_result"
    }
   ],
   "source": [
    "data.head()"
   ]
  },
  {
   "cell_type": "code",
   "execution_count": 4,
   "metadata": {},
   "outputs": [
    {
     "data": {
      "text/html": [
       "<div>\n",
       "<style scoped>\n",
       "    .dataframe tbody tr th:only-of-type {\n",
       "        vertical-align: middle;\n",
       "    }\n",
       "\n",
       "    .dataframe tbody tr th {\n",
       "        vertical-align: top;\n",
       "    }\n",
       "\n",
       "    .dataframe thead th {\n",
       "        text-align: right;\n",
       "    }\n",
       "</style>\n",
       "<table border=\"1\" class=\"dataframe\">\n",
       "  <thead>\n",
       "    <tr style=\"text-align: right;\">\n",
       "      <th></th>\n",
       "      <th>Time_Record</th>\n",
       "      <th>Transcription</th>\n",
       "      <th>Emotion</th>\n",
       "      <th>Sentiment</th>\n",
       "    </tr>\n",
       "    <tr>\n",
       "      <th>Session_ID</th>\n",
       "      <th></th>\n",
       "      <th></th>\n",
       "      <th></th>\n",
       "      <th></th>\n",
       "    </tr>\n",
       "  </thead>\n",
       "  <tbody>\n",
       "    <tr>\n",
       "      <th>Sess2_E3_ID13704</th>\n",
       "      <td>[00:00:48,173-00:00:50,799]:</td>\n",
       "      <td>You or me?</td>\n",
       "      <td>neutral</td>\n",
       "      <td>neutral</td>\n",
       "    </tr>\n",
       "    <tr>\n",
       "      <th>Sess2_E3_ID13705</th>\n",
       "      <td>[00:00:51,009-00:00:53,594]:</td>\n",
       "      <td>I got it. Uh, Joey, women don't have Adam's ap...</td>\n",
       "      <td>neutral</td>\n",
       "      <td>neutral</td>\n",
       "    </tr>\n",
       "    <tr>\n",
       "      <th>Sess2_E3_ID13706</th>\n",
       "      <td>[00:01:00,518-00:01:03,520]:</td>\n",
       "      <td>You guys are messing with me, right?</td>\n",
       "      <td>surprise</td>\n",
       "      <td>positive</td>\n",
       "    </tr>\n",
       "    <tr>\n",
       "      <th>Sess2_E3_ID13707</th>\n",
       "      <td>[00:01:05,398-00:01:07,274]:</td>\n",
       "      <td>Yeah.</td>\n",
       "      <td>neutral</td>\n",
       "      <td>neutral</td>\n",
       "    </tr>\n",
       "    <tr>\n",
       "      <th>Sess2_E3_ID13708</th>\n",
       "      <td>[00:01:08,401-00:01:12,071]:</td>\n",
       "      <td>That was a good one. For a second there, I was...</td>\n",
       "      <td>joy</td>\n",
       "      <td>positive</td>\n",
       "    </tr>\n",
       "  </tbody>\n",
       "</table>\n",
       "</div>"
      ],
      "text/plain": [
       "                                   Time_Record  \\\n",
       "Session_ID                                       \n",
       "Sess2_E3_ID13704  [00:00:48,173-00:00:50,799]:   \n",
       "Sess2_E3_ID13705  [00:00:51,009-00:00:53,594]:   \n",
       "Sess2_E3_ID13706  [00:01:00,518-00:01:03,520]:   \n",
       "Sess2_E3_ID13707  [00:01:05,398-00:01:07,274]:   \n",
       "Sess2_E3_ID13708  [00:01:08,401-00:01:12,071]:   \n",
       "\n",
       "                                                      Transcription   Emotion  \\\n",
       "Session_ID                                                                      \n",
       "Sess2_E3_ID13704                                         You or me?   neutral   \n",
       "Sess2_E3_ID13705  I got it. Uh, Joey, women don't have Adam's ap...   neutral   \n",
       "Sess2_E3_ID13706               You guys are messing with me, right?  surprise   \n",
       "Sess2_E3_ID13707                                              Yeah.   neutral   \n",
       "Sess2_E3_ID13708  That was a good one. For a second there, I was...       joy   \n",
       "\n",
       "                 Sentiment  \n",
       "Session_ID                  \n",
       "Sess2_E3_ID13704   neutral  \n",
       "Sess2_E3_ID13705   neutral  \n",
       "Sess2_E3_ID13706  positive  \n",
       "Sess2_E3_ID13707   neutral  \n",
       "Sess2_E3_ID13708  positive  "
      ]
     },
     "execution_count": 4,
     "metadata": {},
     "output_type": "execute_result"
    }
   ],
   "source": [
    "data.tail()"
   ]
  },
  {
   "cell_type": "code",
   "execution_count": 5,
   "metadata": {},
   "outputs": [
    {
     "data": {
      "text/plain": [
       "(13708, 4)"
      ]
     },
     "execution_count": 5,
     "metadata": {},
     "output_type": "execute_result"
    }
   ],
   "source": [
    "data.shape"
   ]
  },
  {
   "cell_type": "markdown",
   "metadata": {},
   "source": [
    "# Data Analisys"
   ]
  },
  {
   "cell_type": "code",
   "execution_count": 6,
   "metadata": {},
   "outputs": [],
   "source": [
    "import seaborn as sns"
   ]
  },
  {
   "cell_type": "code",
   "execution_count": 7,
   "metadata": {},
   "outputs": [
    {
     "data": {
      "image/png": "[encoded data removed]",
      "text/plain": [
       "<Figure size 432x288 with 1 Axes>"
      ]
     },
     "metadata": {
      "needs_background": "light"
     },
     "output_type": "display_data"
    }
   ],
   "source": [
    "\n",
    "sns.countplot(x='Emotion', data=data);"
   ]
  },
  {
   "cell_type": "markdown",
   "metadata": {},
   "source": [
    "new = neutral |\n",
    "fru = frustrated |\n",
    "xxx = without information |\n",
    "ang = angry |\n",
    "sad = sad |\n",
    "sur = surprised |\n",
    "exc = excited |\n",
    "oth = other |\n",
    "fea = fearful |\n",
    "dis = disgusted |"
   ]
  },
  {
   "cell_type": "markdown",
   "metadata": {},
   "source": [
    "# Train Test Split"
   ]
  },
  {
   "cell_type": "code",
   "execution_count": 8,
   "metadata": {},
   "outputs": [],
   "source": [
    "from sklearn.model_selection import train_test_split"
   ]
  },
  {
   "cell_type": "code",
   "execution_count": 9,
   "metadata": {},
   "outputs": [],
   "source": [
    "X_train, X_test, y_train, y_test = train_test_split(data['Transcription'], data['Emotion'],\n",
    "                                                    stratify=data['Emotion'], \n",
    "                                                    test_size=0.25)"
   ]
  }
 ],
 "metadata": {
  "kernelspec": {
   "display_name": "Python 3",
   "language": "python",
   "name": "python3"
  },
  "language_info": {
   "codemirror_mode": {
    "name": "ipython",
    "version": 3
   },
   "file_extension": ".py",
   "mimetype": "text/x-python",
   "name": "python",
   "nbconvert_exporter": "python",
   "pygments_lexer": "ipython3",
   "version": "3.6.8"
  }
 },
 "nbformat": 4,
 "nbformat_minor": 2
}
