{
 "cells": [
  {
   "cell_type": "code",
   "execution_count": 1,
   "metadata": {},
   "outputs": [],
   "source": [
    "import pandas as pd"
   ]
  },
  {
   "cell_type": "markdown",
   "metadata": {},
   "source": [
    "# Dataset"
   ]
  },
  {
   "cell_type": "markdown",
   "metadata": {},
   "source": [
    "### Sentences"
   ]
  },
  {
   "cell_type": "code",
   "execution_count": 2,
   "metadata": {},
   "outputs": [],
   "source": [
    "data = pd.read_csv(\"data\").set_index(\"Session_ID\")"
   ]
  },
  {
   "cell_type": "code",
   "execution_count": 3,
   "metadata": {},
   "outputs": [
    {
     "data": {
      "text/html": [
       "<div>\n",
       "<style scoped>\n",
       "    .dataframe tbody tr th:only-of-type {\n",
       "        vertical-align: middle;\n",
       "    }\n",
       "\n",
       "    .dataframe tbody tr th {\n",
       "        vertical-align: top;\n",
       "    }\n",
       "\n",
       "    .dataframe thead th {\n",
       "        text-align: right;\n",
       "    }\n",
       "</style>\n",
       "<table border=\"1\" class=\"dataframe\">\n",
       "  <thead>\n",
       "    <tr style=\"text-align: right;\">\n",
       "      <th></th>\n",
       "      <th>Time_Record</th>\n",
       "      <th>Transcription</th>\n",
       "    </tr>\n",
       "    <tr>\n",
       "      <th>Session_ID</th>\n",
       "      <th></th>\n",
       "      <th></th>\n",
       "    </tr>\n",
       "  </thead>\n",
       "  <tbody>\n",
       "    <tr>\n",
       "      <th>Ses01F_impro01_F000</th>\n",
       "      <td>[006.2901-008.2357]:</td>\n",
       "      <td>Excuse me.</td>\n",
       "    </tr>\n",
       "    <tr>\n",
       "      <th>Ses01F_impro01_M000</th>\n",
       "      <td>[007.5712-010.4750]:</td>\n",
       "      <td>Do you have your forms?</td>\n",
       "    </tr>\n",
       "    <tr>\n",
       "      <th>Ses01F_impro01_F001</th>\n",
       "      <td>[010.0100-011.3925]:</td>\n",
       "      <td>Yeah.</td>\n",
       "    </tr>\n",
       "    <tr>\n",
       "      <th>Ses01F_impro01_M001</th>\n",
       "      <td>[010.9266-014.6649]:</td>\n",
       "      <td>Let me see them.</td>\n",
       "    </tr>\n",
       "    <tr>\n",
       "      <th>Ses01F_impro01_F002</th>\n",
       "      <td>[014.8872-018.0175]:</td>\n",
       "      <td>Is there a problem?</td>\n",
       "    </tr>\n",
       "  </tbody>\n",
       "</table>\n",
       "</div>"
      ],
      "text/plain": [
       "                              Time_Record            Transcription\n",
       "Session_ID                                                        \n",
       "Ses01F_impro01_F000  [006.2901-008.2357]:               Excuse me.\n",
       "Ses01F_impro01_M000  [007.5712-010.4750]:  Do you have your forms?\n",
       "Ses01F_impro01_F001  [010.0100-011.3925]:                    Yeah.\n",
       "Ses01F_impro01_M001  [010.9266-014.6649]:         Let me see them.\n",
       "Ses01F_impro01_F002  [014.8872-018.0175]:      Is there a problem?"
      ]
     },
     "execution_count": 3,
     "metadata": {},
     "output_type": "execute_result"
    }
   ],
   "source": [
    "data.head()"
   ]
  },
  {
   "cell_type": "code",
   "execution_count": 4,
   "metadata": {},
   "outputs": [
    {
     "data": {
      "text/html": [
       "<div>\n",
       "<style scoped>\n",
       "    .dataframe tbody tr th:only-of-type {\n",
       "        vertical-align: middle;\n",
       "    }\n",
       "\n",
       "    .dataframe tbody tr th {\n",
       "        vertical-align: top;\n",
       "    }\n",
       "\n",
       "    .dataframe thead th {\n",
       "        text-align: right;\n",
       "    }\n",
       "</style>\n",
       "<table border=\"1\" class=\"dataframe\">\n",
       "  <thead>\n",
       "    <tr style=\"text-align: right;\">\n",
       "      <th></th>\n",
       "      <th>Time_Record</th>\n",
       "      <th>Transcription</th>\n",
       "    </tr>\n",
       "    <tr>\n",
       "      <th>Session_ID</th>\n",
       "      <th></th>\n",
       "      <th></th>\n",
       "    </tr>\n",
       "  </thead>\n",
       "  <tbody>\n",
       "    <tr>\n",
       "      <th>Ses05M_script03_2_M044</th>\n",
       "      <td>[255.8600-260.3300]:</td>\n",
       "      <td>oh! Marry you again? I wouldn't marry you agai...</td>\n",
       "    </tr>\n",
       "    <tr>\n",
       "      <th>Ses05M_script03_2_F042</th>\n",
       "      <td>[259.4500-260.4100]:</td>\n",
       "      <td>Beast</td>\n",
       "    </tr>\n",
       "    <tr>\n",
       "      <th>Ses05M_script03_2_M045</th>\n",
       "      <td>[260.3400-266.3500]:</td>\n",
       "      <td>You're a wicked little vampire.  And I pray to...</td>\n",
       "    </tr>\n",
       "    <tr>\n",
       "      <th>Ses05M_script03_2_F043</th>\n",
       "      <td>[260.4200-261.4300]:</td>\n",
       "      <td>Brute</td>\n",
       "    </tr>\n",
       "    <tr>\n",
       "      <th>Ses05M_script03_2_F044</th>\n",
       "      <td>[261.9100-263.0700]:</td>\n",
       "      <td>pig</td>\n",
       "    </tr>\n",
       "  </tbody>\n",
       "</table>\n",
       "</div>"
      ],
      "text/plain": [
       "                                 Time_Record  \\\n",
       "Session_ID                                     \n",
       "Ses05M_script03_2_M044  [255.8600-260.3300]:   \n",
       "Ses05M_script03_2_F042  [259.4500-260.4100]:   \n",
       "Ses05M_script03_2_M045  [260.3400-266.3500]:   \n",
       "Ses05M_script03_2_F043  [260.4200-261.4300]:   \n",
       "Ses05M_script03_2_F044  [261.9100-263.0700]:   \n",
       "\n",
       "                                                            Transcription  \n",
       "Session_ID                                                                 \n",
       "Ses05M_script03_2_M044  oh! Marry you again? I wouldn't marry you agai...  \n",
       "Ses05M_script03_2_F042                                              Beast  \n",
       "Ses05M_script03_2_M045  You're a wicked little vampire.  And I pray to...  \n",
       "Ses05M_script03_2_F043                                              Brute  \n",
       "Ses05M_script03_2_F044                                                pig  "
      ]
     },
     "execution_count": 4,
     "metadata": {},
     "output_type": "execute_result"
    }
   ],
   "source": [
    "data.tail()"
   ]
  },
  {
   "cell_type": "code",
   "execution_count": 5,
   "metadata": {},
   "outputs": [
    {
     "data": {
      "text/plain": [
       "(10239, 2)"
      ]
     },
     "execution_count": 5,
     "metadata": {},
     "output_type": "execute_result"
    }
   ],
   "source": [
    "data.shape"
   ]
  },
  {
   "cell_type": "markdown",
   "metadata": {},
   "source": [
    "### Targets"
   ]
  },
  {
   "cell_type": "code",
   "execution_count": 6,
   "metadata": {},
   "outputs": [],
   "source": [
    "target = pd.read_csv(\"target\").set_index(\"Session_ID\")"
   ]
  },
  {
   "cell_type": "code",
   "execution_count": 7,
   "metadata": {},
   "outputs": [
    {
     "data": {
      "text/html": [
       "<div>\n",
       "<style scoped>\n",
       "    .dataframe tbody tr th:only-of-type {\n",
       "        vertical-align: middle;\n",
       "    }\n",
       "\n",
       "    .dataframe tbody tr th {\n",
       "        vertical-align: top;\n",
       "    }\n",
       "\n",
       "    .dataframe thead th {\n",
       "        text-align: right;\n",
       "    }\n",
       "</style>\n",
       "<table border=\"1\" class=\"dataframe\">\n",
       "  <thead>\n",
       "    <tr style=\"text-align: right;\">\n",
       "      <th></th>\n",
       "      <th>Emotion</th>\n",
       "      <th>Valence</th>\n",
       "      <th>Activation</th>\n",
       "      <th>Dominance</th>\n",
       "    </tr>\n",
       "    <tr>\n",
       "      <th>Session_ID</th>\n",
       "      <th></th>\n",
       "      <th></th>\n",
       "      <th></th>\n",
       "      <th></th>\n",
       "    </tr>\n",
       "  </thead>\n",
       "  <tbody>\n",
       "    <tr>\n",
       "      <th>Ses01F_impro01_F000</th>\n",
       "      <td>neu</td>\n",
       "      <td>2.5</td>\n",
       "      <td>2.5</td>\n",
       "      <td>2.5</td>\n",
       "    </tr>\n",
       "    <tr>\n",
       "      <th>Ses01F_impro01_F001</th>\n",
       "      <td>neu</td>\n",
       "      <td>2.5</td>\n",
       "      <td>2.5</td>\n",
       "      <td>2.5</td>\n",
       "    </tr>\n",
       "    <tr>\n",
       "      <th>Ses01F_impro01_F002</th>\n",
       "      <td>neu</td>\n",
       "      <td>2.5</td>\n",
       "      <td>2.5</td>\n",
       "      <td>2.5</td>\n",
       "    </tr>\n",
       "    <tr>\n",
       "      <th>Ses01F_impro01_F003</th>\n",
       "      <td>xxx</td>\n",
       "      <td>2.5</td>\n",
       "      <td>3.0</td>\n",
       "      <td>3.0</td>\n",
       "    </tr>\n",
       "    <tr>\n",
       "      <th>Ses01F_impro01_F004</th>\n",
       "      <td>xxx</td>\n",
       "      <td>2.5</td>\n",
       "      <td>3.0</td>\n",
       "      <td>2.5</td>\n",
       "    </tr>\n",
       "  </tbody>\n",
       "</table>\n",
       "</div>"
      ],
      "text/plain": [
       "                    Emotion  Valence  Activation  Dominance\n",
       "Session_ID                                                 \n",
       "Ses01F_impro01_F000     neu      2.5         2.5        2.5\n",
       "Ses01F_impro01_F001     neu      2.5         2.5        2.5\n",
       "Ses01F_impro01_F002     neu      2.5         2.5        2.5\n",
       "Ses01F_impro01_F003     xxx      2.5         3.0        3.0\n",
       "Ses01F_impro01_F004     xxx      2.5         3.0        2.5"
      ]
     },
     "execution_count": 7,
     "metadata": {},
     "output_type": "execute_result"
    }
   ],
   "source": [
    "target.head()"
   ]
  },
  {
   "cell_type": "code",
   "execution_count": 8,
   "metadata": {},
   "outputs": [
    {
     "data": {
      "text/html": [
       "<div>\n",
       "<style scoped>\n",
       "    .dataframe tbody tr th:only-of-type {\n",
       "        vertical-align: middle;\n",
       "    }\n",
       "\n",
       "    .dataframe tbody tr th {\n",
       "        vertical-align: top;\n",
       "    }\n",
       "\n",
       "    .dataframe thead th {\n",
       "        text-align: right;\n",
       "    }\n",
       "</style>\n",
       "<table border=\"1\" class=\"dataframe\">\n",
       "  <thead>\n",
       "    <tr style=\"text-align: right;\">\n",
       "      <th></th>\n",
       "      <th>Emotion</th>\n",
       "      <th>Valence</th>\n",
       "      <th>Activation</th>\n",
       "      <th>Dominance</th>\n",
       "    </tr>\n",
       "    <tr>\n",
       "      <th>Session_ID</th>\n",
       "      <th></th>\n",
       "      <th></th>\n",
       "      <th></th>\n",
       "      <th></th>\n",
       "    </tr>\n",
       "  </thead>\n",
       "  <tbody>\n",
       "    <tr>\n",
       "      <th>Ses05M_script03_2_M041</th>\n",
       "      <td>ang</td>\n",
       "      <td>1.0</td>\n",
       "      <td>4.5</td>\n",
       "      <td>5.0</td>\n",
       "    </tr>\n",
       "    <tr>\n",
       "      <th>Ses05M_script03_2_M042</th>\n",
       "      <td>ang</td>\n",
       "      <td>1.0</td>\n",
       "      <td>4.5</td>\n",
       "      <td>4.5</td>\n",
       "    </tr>\n",
       "    <tr>\n",
       "      <th>Ses05M_script03_2_M043</th>\n",
       "      <td>ang</td>\n",
       "      <td>1.5</td>\n",
       "      <td>4.0</td>\n",
       "      <td>4.5</td>\n",
       "    </tr>\n",
       "    <tr>\n",
       "      <th>Ses05M_script03_2_M044</th>\n",
       "      <td>ang</td>\n",
       "      <td>1.0</td>\n",
       "      <td>5.0</td>\n",
       "      <td>5.0</td>\n",
       "    </tr>\n",
       "    <tr>\n",
       "      <th>Ses05M_script03_2_M045</th>\n",
       "      <td>ang</td>\n",
       "      <td>1.0</td>\n",
       "      <td>5.0</td>\n",
       "      <td>5.0</td>\n",
       "    </tr>\n",
       "  </tbody>\n",
       "</table>\n",
       "</div>"
      ],
      "text/plain": [
       "                       Emotion  Valence  Activation  Dominance\n",
       "Session_ID                                                    \n",
       "Ses05M_script03_2_M041     ang      1.0         4.5        5.0\n",
       "Ses05M_script03_2_M042     ang      1.0         4.5        4.5\n",
       "Ses05M_script03_2_M043     ang      1.5         4.0        4.5\n",
       "Ses05M_script03_2_M044     ang      1.0         5.0        5.0\n",
       "Ses05M_script03_2_M045     ang      1.0         5.0        5.0"
      ]
     },
     "execution_count": 8,
     "metadata": {},
     "output_type": "execute_result"
    }
   ],
   "source": [
    "target.tail()"
   ]
  },
  {
   "cell_type": "code",
   "execution_count": 9,
   "metadata": {},
   "outputs": [
    {
     "data": {
      "text/plain": [
       "(10039, 4)"
      ]
     },
     "execution_count": 9,
     "metadata": {},
     "output_type": "execute_result"
    }
   ],
   "source": [
    "target.shape"
   ]
  },
  {
   "cell_type": "markdown",
   "metadata": {},
   "source": [
    "### Data merge"
   ]
  },
  {
   "cell_type": "code",
   "execution_count": 10,
   "metadata": {},
   "outputs": [],
   "source": [
    "corpus = pd.merge(data, target, on='Session_ID')\n"
   ]
  },
  {
   "cell_type": "code",
   "execution_count": 11,
   "metadata": {},
   "outputs": [
    {
     "data": {
      "text/html": [
       "<div>\n",
       "<style scoped>\n",
       "    .dataframe tbody tr th:only-of-type {\n",
       "        vertical-align: middle;\n",
       "    }\n",
       "\n",
       "    .dataframe tbody tr th {\n",
       "        vertical-align: top;\n",
       "    }\n",
       "\n",
       "    .dataframe thead th {\n",
       "        text-align: right;\n",
       "    }\n",
       "</style>\n",
       "<table border=\"1\" class=\"dataframe\">\n",
       "  <thead>\n",
       "    <tr style=\"text-align: right;\">\n",
       "      <th></th>\n",
       "      <th>Time_Record</th>\n",
       "      <th>Transcription</th>\n",
       "      <th>Emotion</th>\n",
       "      <th>Valence</th>\n",
       "      <th>Activation</th>\n",
       "      <th>Dominance</th>\n",
       "    </tr>\n",
       "    <tr>\n",
       "      <th>Session_ID</th>\n",
       "      <th></th>\n",
       "      <th></th>\n",
       "      <th></th>\n",
       "      <th></th>\n",
       "      <th></th>\n",
       "      <th></th>\n",
       "    </tr>\n",
       "  </thead>\n",
       "  <tbody>\n",
       "    <tr>\n",
       "      <th>Ses01F_impro01_F000</th>\n",
       "      <td>[006.2901-008.2357]:</td>\n",
       "      <td>Excuse me.</td>\n",
       "      <td>neu</td>\n",
       "      <td>2.5</td>\n",
       "      <td>2.5</td>\n",
       "      <td>2.5</td>\n",
       "    </tr>\n",
       "    <tr>\n",
       "      <th>Ses01F_impro01_M000</th>\n",
       "      <td>[007.5712-010.4750]:</td>\n",
       "      <td>Do you have your forms?</td>\n",
       "      <td>fru</td>\n",
       "      <td>2.5</td>\n",
       "      <td>2.0</td>\n",
       "      <td>2.5</td>\n",
       "    </tr>\n",
       "    <tr>\n",
       "      <th>Ses01F_impro01_F001</th>\n",
       "      <td>[010.0100-011.3925]:</td>\n",
       "      <td>Yeah.</td>\n",
       "      <td>neu</td>\n",
       "      <td>2.5</td>\n",
       "      <td>2.5</td>\n",
       "      <td>2.5</td>\n",
       "    </tr>\n",
       "    <tr>\n",
       "      <th>Ses01F_impro01_M001</th>\n",
       "      <td>[010.9266-014.6649]:</td>\n",
       "      <td>Let me see them.</td>\n",
       "      <td>fru</td>\n",
       "      <td>2.5</td>\n",
       "      <td>2.0</td>\n",
       "      <td>2.5</td>\n",
       "    </tr>\n",
       "    <tr>\n",
       "      <th>Ses01F_impro01_F002</th>\n",
       "      <td>[014.8872-018.0175]:</td>\n",
       "      <td>Is there a problem?</td>\n",
       "      <td>neu</td>\n",
       "      <td>2.5</td>\n",
       "      <td>2.5</td>\n",
       "      <td>2.5</td>\n",
       "    </tr>\n",
       "  </tbody>\n",
       "</table>\n",
       "</div>"
      ],
      "text/plain": [
       "                              Time_Record            Transcription Emotion  \\\n",
       "Session_ID                                                                   \n",
       "Ses01F_impro01_F000  [006.2901-008.2357]:               Excuse me.     neu   \n",
       "Ses01F_impro01_M000  [007.5712-010.4750]:  Do you have your forms?     fru   \n",
       "Ses01F_impro01_F001  [010.0100-011.3925]:                    Yeah.     neu   \n",
       "Ses01F_impro01_M001  [010.9266-014.6649]:         Let me see them.     fru   \n",
       "Ses01F_impro01_F002  [014.8872-018.0175]:      Is there a problem?     neu   \n",
       "\n",
       "                     Valence  Activation  Dominance  \n",
       "Session_ID                                           \n",
       "Ses01F_impro01_F000      2.5         2.5        2.5  \n",
       "Ses01F_impro01_M000      2.5         2.0        2.5  \n",
       "Ses01F_impro01_F001      2.5         2.5        2.5  \n",
       "Ses01F_impro01_M001      2.5         2.0        2.5  \n",
       "Ses01F_impro01_F002      2.5         2.5        2.5  "
      ]
     },
     "execution_count": 11,
     "metadata": {},
     "output_type": "execute_result"
    }
   ],
   "source": [
    "corpus.head()"
   ]
  },
  {
   "cell_type": "code",
   "execution_count": 12,
   "metadata": {},
   "outputs": [
    {
     "data": {
      "text/html": [
       "<div>\n",
       "<style scoped>\n",
       "    .dataframe tbody tr th:only-of-type {\n",
       "        vertical-align: middle;\n",
       "    }\n",
       "\n",
       "    .dataframe tbody tr th {\n",
       "        vertical-align: top;\n",
       "    }\n",
       "\n",
       "    .dataframe thead th {\n",
       "        text-align: right;\n",
       "    }\n",
       "</style>\n",
       "<table border=\"1\" class=\"dataframe\">\n",
       "  <thead>\n",
       "    <tr style=\"text-align: right;\">\n",
       "      <th></th>\n",
       "      <th>Time_Record</th>\n",
       "      <th>Transcription</th>\n",
       "      <th>Emotion</th>\n",
       "      <th>Valence</th>\n",
       "      <th>Activation</th>\n",
       "      <th>Dominance</th>\n",
       "    </tr>\n",
       "    <tr>\n",
       "      <th>Session_ID</th>\n",
       "      <th></th>\n",
       "      <th></th>\n",
       "      <th></th>\n",
       "      <th></th>\n",
       "      <th></th>\n",
       "      <th></th>\n",
       "    </tr>\n",
       "  </thead>\n",
       "  <tbody>\n",
       "    <tr>\n",
       "      <th>Ses05M_script03_2_M044</th>\n",
       "      <td>[255.8600-260.3300]:</td>\n",
       "      <td>oh! Marry you again? I wouldn't marry you agai...</td>\n",
       "      <td>ang</td>\n",
       "      <td>1.0</td>\n",
       "      <td>5.0</td>\n",
       "      <td>5.0</td>\n",
       "    </tr>\n",
       "    <tr>\n",
       "      <th>Ses05M_script03_2_F042</th>\n",
       "      <td>[259.4500-260.4100]:</td>\n",
       "      <td>Beast</td>\n",
       "      <td>ang</td>\n",
       "      <td>2.0</td>\n",
       "      <td>4.5</td>\n",
       "      <td>4.5</td>\n",
       "    </tr>\n",
       "    <tr>\n",
       "      <th>Ses05M_script03_2_M045</th>\n",
       "      <td>[260.3400-266.3500]:</td>\n",
       "      <td>You're a wicked little vampire.  And I pray to...</td>\n",
       "      <td>ang</td>\n",
       "      <td>1.0</td>\n",
       "      <td>5.0</td>\n",
       "      <td>5.0</td>\n",
       "    </tr>\n",
       "    <tr>\n",
       "      <th>Ses05M_script03_2_F043</th>\n",
       "      <td>[260.4200-261.4300]:</td>\n",
       "      <td>Brute</td>\n",
       "      <td>ang</td>\n",
       "      <td>1.5</td>\n",
       "      <td>4.5</td>\n",
       "      <td>5.0</td>\n",
       "    </tr>\n",
       "    <tr>\n",
       "      <th>Ses05M_script03_2_F044</th>\n",
       "      <td>[261.9100-263.0700]:</td>\n",
       "      <td>pig</td>\n",
       "      <td>ang</td>\n",
       "      <td>1.0</td>\n",
       "      <td>4.5</td>\n",
       "      <td>5.0</td>\n",
       "    </tr>\n",
       "  </tbody>\n",
       "</table>\n",
       "</div>"
      ],
      "text/plain": [
       "                                 Time_Record  \\\n",
       "Session_ID                                     \n",
       "Ses05M_script03_2_M044  [255.8600-260.3300]:   \n",
       "Ses05M_script03_2_F042  [259.4500-260.4100]:   \n",
       "Ses05M_script03_2_M045  [260.3400-266.3500]:   \n",
       "Ses05M_script03_2_F043  [260.4200-261.4300]:   \n",
       "Ses05M_script03_2_F044  [261.9100-263.0700]:   \n",
       "\n",
       "                                                            Transcription  \\\n",
       "Session_ID                                                                  \n",
       "Ses05M_script03_2_M044  oh! Marry you again? I wouldn't marry you agai...   \n",
       "Ses05M_script03_2_F042                                              Beast   \n",
       "Ses05M_script03_2_M045  You're a wicked little vampire.  And I pray to...   \n",
       "Ses05M_script03_2_F043                                              Brute   \n",
       "Ses05M_script03_2_F044                                                pig   \n",
       "\n",
       "                       Emotion  Valence  Activation  Dominance  \n",
       "Session_ID                                                      \n",
       "Ses05M_script03_2_M044     ang      1.0         5.0        5.0  \n",
       "Ses05M_script03_2_F042     ang      2.0         4.5        4.5  \n",
       "Ses05M_script03_2_M045     ang      1.0         5.0        5.0  \n",
       "Ses05M_script03_2_F043     ang      1.5         4.5        5.0  \n",
       "Ses05M_script03_2_F044     ang      1.0         4.5        5.0  "
      ]
     },
     "execution_count": 12,
     "metadata": {},
     "output_type": "execute_result"
    }
   ],
   "source": [
    "corpus.tail()"
   ]
  },
  {
   "cell_type": "code",
   "execution_count": 13,
   "metadata": {},
   "outputs": [
    {
     "data": {
      "text/plain": [
       "(10039, 6)"
      ]
     },
     "execution_count": 13,
     "metadata": {},
     "output_type": "execute_result"
    }
   ],
   "source": [
    "corpus.shape"
   ]
  },
  {
   "cell_type": "markdown",
   "metadata": {},
   "source": [
    "# Data Analisys"
   ]
  },
  {
   "cell_type": "code",
   "execution_count": 14,
   "metadata": {},
   "outputs": [],
   "source": [
    "import seaborn as sns"
   ]
  },
  {
   "cell_type": "code",
   "execution_count": 15,
   "metadata": {},
   "outputs": [
    {
     "data": {
      "image/png": "[encoded data removed]",
      "text/plain": [
       "<Figure size 432x288 with 1 Axes>"
      ]
     },
     "metadata": {
      "needs_background": "light"
     },
     "output_type": "display_data"
    }
   ],
   "source": [
    "\n",
    "sns.countplot(x='Emotion', data=corpus);"
   ]
  },
  {
   "cell_type": "markdown",
   "metadata": {},
   "source": [
    "new = neutral |\n",
    "fru = frustrated |\n",
    "xxx = without information |\n",
    "ang = angry |\n",
    "sad = sad |\n",
    "sur = surprised |\n",
    "exc = excited |\n",
    "oth = other |\n",
    "fea = fearful |\n",
    "dis = disgusted |"
   ]
  },
  {
   "cell_type": "markdown",
   "metadata": {},
   "source": [
    "# Train Test Split"
   ]
  },
  {
   "cell_type": "code",
   "execution_count": 18,
   "metadata": {},
   "outputs": [],
   "source": [
    "from sklearn.model_selection import train_test_split"
   ]
  },
  {
   "cell_type": "code",
   "execution_count": 19,
   "metadata": {},
   "outputs": [],
   "source": [
    "X_train, X_test, y_train, y_test = train_test_split(corpus['Transcription'], corpus['Emotion'],\n",
    "                                                    stratify=corpus['Emotion'], \n",
    "                                                    test_size=0.25)"
   ]
  }
 ],
 "metadata": {
  "kernelspec": {
   "display_name": "Python 3",
   "language": "python",
   "name": "python3"
  },
  "language_info": {
   "codemirror_mode": {
    "name": "ipython",
    "version": 3
   },
   "file_extension": ".py",
   "mimetype": "text/x-python",
   "name": "python",
   "nbconvert_exporter": "python",
   "pygments_lexer": "ipython3",
   "version": "3.6.8"
  }
 },
 "nbformat": 4,
 "nbformat_minor": 2
}
